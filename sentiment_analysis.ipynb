{
 "cells": [
  {
   "cell_type": "markdown",
   "metadata": {},
   "source": [
    "### Imports"
   ]
  },
  {
   "cell_type": "code",
   "execution_count": 74,
   "metadata": {},
   "outputs": [],
   "source": [
    "import re\n",
    "import numpy as np\n",
    "import pandas as pd\n",
    "from nltk import word_tokenize\n",
    "from nltk.corpus import stopwords\n",
    "from nltk.stem import WordNetLemmatizer\n",
    "import unicodedata\n",
    "import inflect\n",
    "from vaderSentiment.vaderSentiment import SentimentIntensityAnalyzer"
   ]
  },
  {
   "cell_type": "markdown",
   "metadata": {},
   "source": [
    "### Read file"
   ]
  },
  {
   "cell_type": "code",
   "execution_count": 2,
   "metadata": {},
   "outputs": [],
   "source": [
    "df = pd.read_csv('./scrapper/reviews_crawler/places_review.csv')"
   ]
  },
  {
   "cell_type": "code",
   "execution_count": 3,
   "metadata": {},
   "outputs": [
    {
     "data": {
      "text/html": [
       "<div>\n",
       "<style scoped>\n",
       "    .dataframe tbody tr th:only-of-type {\n",
       "        vertical-align: middle;\n",
       "    }\n",
       "\n",
       "    .dataframe tbody tr th {\n",
       "        vertical-align: top;\n",
       "    }\n",
       "\n",
       "    .dataframe thead th {\n",
       "        text-align: right;\n",
       "    }\n",
       "</style>\n",
       "<table border=\"1\" class=\"dataframe\">\n",
       "  <thead>\n",
       "    <tr style=\"text-align: right;\">\n",
       "      <th></th>\n",
       "      <th>review</th>\n",
       "      <th>place</th>\n",
       "    </tr>\n",
       "  </thead>\n",
       "  <tbody>\n",
       "    <tr>\n",
       "      <th>0</th>\n",
       "      <td>Hello friends, I would like to share about the...</td>\n",
       "      <td>Pandharpur</td>\n",
       "    </tr>\n",
       "    <tr>\n",
       "      <th>1</th>\n",
       "      <td>Baralikadu Tourist place is very popular. This...</td>\n",
       "      <td>Baralikadu</td>\n",
       "    </tr>\n",
       "    <tr>\n",
       "      <th>2</th>\n",
       "      <td>I really like  this place its awesome nice won...</td>\n",
       "      <td>Kakkadampoyil</td>\n",
       "    </tr>\n",
       "    <tr>\n",
       "      <th>3</th>\n",
       "      <td>If you visit MP and Miss chindwara than you ha...</td>\n",
       "      <td>Chhindwara</td>\n",
       "    </tr>\n",
       "    <tr>\n",
       "      <th>4</th>\n",
       "      <td>Its a must see place in andaman trip. Scuba di...</td>\n",
       "      <td>Havelock Island</td>\n",
       "    </tr>\n",
       "  </tbody>\n",
       "</table>\n",
       "</div>"
      ],
      "text/plain": [
       "                                              review            place\n",
       "0  Hello friends, I would like to share about the...       Pandharpur\n",
       "1  Baralikadu Tourist place is very popular. This...       Baralikadu\n",
       "2  I really like  this place its awesome nice won...    Kakkadampoyil\n",
       "3  If you visit MP and Miss chindwara than you ha...       Chhindwara\n",
       "4  Its a must see place in andaman trip. Scuba di...  Havelock Island"
      ]
     },
     "execution_count": 3,
     "metadata": {},
     "output_type": "execute_result"
    }
   ],
   "source": [
    "df.head()"
   ]
  },
  {
   "cell_type": "code",
   "execution_count": 4,
   "metadata": {},
   "outputs": [
    {
     "name": "stdout",
     "output_type": "stream",
     "text": [
      "<class 'pandas.core.frame.DataFrame'>\n",
      "RangeIndex: 605 entries, 0 to 604\n",
      "Data columns (total 2 columns):\n",
      "review    605 non-null object\n",
      "place     605 non-null object\n",
      "dtypes: object(2)\n",
      "memory usage: 9.5+ KB\n"
     ]
    }
   ],
   "source": [
    "df.info()"
   ]
  },
  {
   "cell_type": "code",
   "execution_count": 9,
   "metadata": {},
   "outputs": [
    {
     "data": {
      "text/plain": [
       "array(['Pandharpur', 'Baralikadu', 'Kakkadampoyil', 'Chhindwara',\n",
       "       'Havelock Island', 'Tuljapur', 'Manali', 'Sinhagad', 'Kodaikanal',\n",
       "       'Murdeshwar', 'Agra', 'Eco Park - New Town - Kolkata',\n",
       "       'Machranga Dweep (Kingfisher Island)', 'Daltonganj', 'Sripuram',\n",
       "       'Bangalore', 'Visakhapatnam', 'Aurangabad', 'Badrinath',\n",
       "       'Srirangam', 'Malakonda', 'Ooty', 'Dalhousie', 'Konark',\n",
       "       'Amritsar', 'Kasauli', 'Netarhat', 'Ram Jhula', 'Lakshadweep',\n",
       "       'Baroda', 'Bhangarh', 'Hyderabad', 'Pondicherry', 'Mahabaleshwar',\n",
       "       'Mukteshwar', 'Rameshwaram', 'Kuldhara', 'Lucknow',\n",
       "       'Tapola - Mahabaleshwar', 'Gorakhpur'], dtype=object)"
      ]
     },
     "execution_count": 9,
     "metadata": {},
     "output_type": "execute_result"
    }
   ],
   "source": [
    "df['place'].unique()"
   ]
  },
  {
   "cell_type": "markdown",
   "metadata": {},
   "source": [
    "### UDF for preprocessing"
   ]
  },
  {
   "cell_type": "code",
   "execution_count": 29,
   "metadata": {},
   "outputs": [],
   "source": [
    "def remove_non_ascii(words):\n",
    "    \"\"\"Remove non-ASCII characters from list of tokenized words\"\"\"\n",
    "    new_words = []\n",
    "    for word in words:\n",
    "        new_word = unicodedata.normalize('NFKD', word).encode('ascii', 'ignore').decode('utf-8', 'ignore')\n",
    "        new_words.append(new_word)\n",
    "    return new_words"
   ]
  },
  {
   "cell_type": "code",
   "execution_count": 27,
   "metadata": {},
   "outputs": [],
   "source": [
    "def remove_punctuation(words):\n",
    "    \"\"\"Remove punctuation from list of tokenized words\"\"\"\n",
    "    new_words = []\n",
    "    for word in words:\n",
    "        new_word = re.sub(r'[^\\w\\s]', '', word)\n",
    "        if new_word != '':\n",
    "            new_words.append(new_word)\n",
    "    return new_words"
   ]
  },
  {
   "cell_type": "code",
   "execution_count": 28,
   "metadata": {},
   "outputs": [],
   "source": [
    "def replace_numbers(words):\n",
    "    \"\"\"Replace all interger occurrences in list of tokenized words with textual representation\"\"\"\n",
    "    p = inflect.engine()\n",
    "    new_words = []\n",
    "    for word in words:\n",
    "        if word.isdigit():\n",
    "            new_word = p.number_to_words(word)\n",
    "            new_words.append(new_word)\n",
    "        else:\n",
    "            new_words.append(word)\n",
    "    return new_words"
   ]
  },
  {
   "cell_type": "code",
   "execution_count": 30,
   "metadata": {},
   "outputs": [],
   "source": [
    "def remove_stopwords(words):\n",
    "    \"\"\"Remove stop words from list of tokenized words\"\"\"\n",
    "    new_words = []\n",
    "    for word in words:\n",
    "        if word not in stopwords.words('english'):\n",
    "            new_words.append(word)\n",
    "    return new_words"
   ]
  },
  {
   "cell_type": "code",
   "execution_count": 31,
   "metadata": {},
   "outputs": [],
   "source": [
    "def lemmatize_verbs(words):\n",
    "    \"\"\"Lemmatize verbs in list of tokenized words\"\"\"\n",
    "    lemmatizer = WordNetLemmatizer()\n",
    "    lemmas = []\n",
    "    for word in words:\n",
    "        lemma = lemmatizer.lemmatize(word, pos='v')\n",
    "        lemmas.append(lemma)\n",
    "    return lemmas"
   ]
  },
  {
   "cell_type": "markdown",
   "metadata": {},
   "source": [
    "### preprocessing pipeline"
   ]
  },
  {
   "cell_type": "code",
   "execution_count": 59,
   "metadata": {},
   "outputs": [],
   "source": [
    "def text_preprocessing(text):\n",
    "    \"\"\"Text preprocessing\"\"\"\n",
    "    text = text.lower()\n",
    "    words = word_tokenize(text)\n",
    "    words = remove_punctuation(words)\n",
    "    words = replace_numbers(words)\n",
    "    words = remove_stopwords(words)\n",
    "    words = lemmatize_verbs(words)\n",
    "    \n",
    "    return \" \".join(words)"
   ]
  },
  {
   "cell_type": "code",
   "execution_count": 60,
   "metadata": {},
   "outputs": [],
   "source": [
    "df['review'] = df['review'].apply(lambda x: text_preprocessing(x))\n",
    "# df.iloc[:10]['review'].apply(lambda x: text_preprocessing(x))  ## for testing"
   ]
  },
  {
   "cell_type": "code",
   "execution_count": 61,
   "metadata": {},
   "outputs": [],
   "source": [
    "new_df = df.groupby(by=['place'])['review'].apply(list).reset_index(name='reviews')"
   ]
  },
  {
   "cell_type": "code",
   "execution_count": 62,
   "metadata": {},
   "outputs": [
    {
     "data": {
      "text/html": [
       "<div>\n",
       "<style scoped>\n",
       "    .dataframe tbody tr th:only-of-type {\n",
       "        vertical-align: middle;\n",
       "    }\n",
       "\n",
       "    .dataframe tbody tr th {\n",
       "        vertical-align: top;\n",
       "    }\n",
       "\n",
       "    .dataframe thead th {\n",
       "        text-align: right;\n",
       "    }\n",
       "</style>\n",
       "<table border=\"1\" class=\"dataframe\">\n",
       "  <thead>\n",
       "    <tr style=\"text-align: right;\">\n",
       "      <th></th>\n",
       "      <th>place</th>\n",
       "      <th>reviews</th>\n",
       "    </tr>\n",
       "  </thead>\n",
       "  <tbody>\n",
       "    <tr>\n",
       "      <th>0</th>\n",
       "      <td>Agra</td>\n",
       "      <td>[agra two thousand sixteen see taj mahal frien...</td>\n",
       "    </tr>\n",
       "    <tr>\n",
       "      <th>1</th>\n",
       "      <td>Amritsar</td>\n",
       "      <td>[amritsar good tourist place many foriegn tour...</td>\n",
       "    </tr>\n",
       "    <tr>\n",
       "      <th>2</th>\n",
       "      <td>Aurangabad</td>\n",
       "      <td>[aurangabad know ajanta ellora cave much see m...</td>\n",
       "    </tr>\n",
       "    <tr>\n",
       "      <th>3</th>\n",
       "      <td>Badrinath</td>\n",
       "      <td>[great visit place devotion god mahakaal one t...</td>\n",
       "    </tr>\n",
       "    <tr>\n",
       "      <th>4</th>\n",
       "      <td>Bangalore</td>\n",
       "      <td>[sneak peak bangalore musical fountain locate ...</td>\n",
       "    </tr>\n",
       "  </tbody>\n",
       "</table>\n",
       "</div>"
      ],
      "text/plain": [
       "        place                                            reviews\n",
       "0        Agra  [agra two thousand sixteen see taj mahal frien...\n",
       "1    Amritsar  [amritsar good tourist place many foriegn tour...\n",
       "2  Aurangabad  [aurangabad know ajanta ellora cave much see m...\n",
       "3   Badrinath  [great visit place devotion god mahakaal one t...\n",
       "4   Bangalore  [sneak peak bangalore musical fountain locate ..."
      ]
     },
     "execution_count": 62,
     "metadata": {},
     "output_type": "execute_result"
    }
   ],
   "source": [
    "new_df.head()"
   ]
  },
  {
   "cell_type": "markdown",
   "metadata": {},
   "source": [
    "### Vader sentiment"
   ]
  },
  {
   "cell_type": "code",
   "execution_count": 75,
   "metadata": {},
   "outputs": [],
   "source": [
    "def get_vader_sentiment_score(texts):\n",
    "    analyser = SentimentIntensityAnalyzer()\n",
    "    scores = []\n",
    "    for text in texts:\n",
    "        scores.append(analyser.polarity_scores(text)['compound'])\n",
    "    return np.mean(scores)"
   ]
  },
  {
   "cell_type": "code",
   "execution_count": 77,
   "metadata": {},
   "outputs": [],
   "source": [
    "new_df['score'] = new_df['reviews'].apply(lambda x: get_vader_sentiment_score(x))"
   ]
  },
  {
   "cell_type": "code",
   "execution_count": 102,
   "metadata": {},
   "outputs": [],
   "source": [
    "new_df.sort_values(by=['score'], ascending=False, inplace=True)"
   ]
  },
  {
   "cell_type": "code",
   "execution_count": 104,
   "metadata": {},
   "outputs": [],
   "source": [
    "new_df.index = np.arange(0,len(new_df))"
   ]
  },
  {
   "cell_type": "code",
   "execution_count": 105,
   "metadata": {},
   "outputs": [
    {
     "data": {
      "text/html": [
       "<div>\n",
       "<style scoped>\n",
       "    .dataframe tbody tr th:only-of-type {\n",
       "        vertical-align: middle;\n",
       "    }\n",
       "\n",
       "    .dataframe tbody tr th {\n",
       "        vertical-align: top;\n",
       "    }\n",
       "\n",
       "    .dataframe thead th {\n",
       "        text-align: right;\n",
       "    }\n",
       "</style>\n",
       "<table border=\"1\" class=\"dataframe\">\n",
       "  <thead>\n",
       "    <tr style=\"text-align: right;\">\n",
       "      <th></th>\n",
       "      <th>place</th>\n",
       "      <th>reviews</th>\n",
       "      <th>score</th>\n",
       "    </tr>\n",
       "  </thead>\n",
       "  <tbody>\n",
       "    <tr>\n",
       "      <th>0</th>\n",
       "      <td>Malakonda</td>\n",
       "      <td>[sri malyadri lakshmi narasimha swamy vari dev...</td>\n",
       "      <td>0.992150</td>\n",
       "    </tr>\n",
       "    <tr>\n",
       "      <th>1</th>\n",
       "      <td>Visakhapatnam</td>\n",
       "      <td>[visakhapatnam know city destiny city one rare...</td>\n",
       "      <td>0.970111</td>\n",
       "    </tr>\n",
       "    <tr>\n",
       "      <th>2</th>\n",
       "      <td>Havelock Island</td>\n",
       "      <td>[must see place andaman trip scuba dive snoork...</td>\n",
       "      <td>0.959490</td>\n",
       "    </tr>\n",
       "    <tr>\n",
       "      <th>3</th>\n",
       "      <td>Kasauli</td>\n",
       "      <td>[kasauli one mostly visit tourist place majori...</td>\n",
       "      <td>0.954621</td>\n",
       "    </tr>\n",
       "    <tr>\n",
       "      <th>4</th>\n",
       "      <td>Tapola - Mahabaleshwar</td>\n",
       "      <td>[tapola best holiday destination winter anyone...</td>\n",
       "      <td>0.950500</td>\n",
       "    </tr>\n",
       "    <tr>\n",
       "      <th>5</th>\n",
       "      <td>Baroda</td>\n",
       "      <td>[spend twentyseven yrs life tell best place li...</td>\n",
       "      <td>0.943863</td>\n",
       "    </tr>\n",
       "    <tr>\n",
       "      <th>6</th>\n",
       "      <td>Mahabaleshwar</td>\n",
       "      <td>[one best place visit tour get holiday package...</td>\n",
       "      <td>0.922500</td>\n",
       "    </tr>\n",
       "    <tr>\n",
       "      <th>7</th>\n",
       "      <td>Aurangabad</td>\n",
       "      <td>[aurangabad know ajanta ellora cave much see m...</td>\n",
       "      <td>0.921595</td>\n",
       "    </tr>\n",
       "    <tr>\n",
       "      <th>8</th>\n",
       "      <td>Dalhousie</td>\n",
       "      <td>[travel dalhousie two thousand eleven school t...</td>\n",
       "      <td>0.921000</td>\n",
       "    </tr>\n",
       "    <tr>\n",
       "      <th>9</th>\n",
       "      <td>Ram Jhula</td>\n",
       "      <td>[ram jhula situate rishikesh place lord shiva ...</td>\n",
       "      <td>0.914800</td>\n",
       "    </tr>\n",
       "  </tbody>\n",
       "</table>\n",
       "</div>"
      ],
      "text/plain": [
       "                    place                                            reviews  \\\n",
       "0               Malakonda  [sri malyadri lakshmi narasimha swamy vari dev...   \n",
       "1           Visakhapatnam  [visakhapatnam know city destiny city one rare...   \n",
       "2         Havelock Island  [must see place andaman trip scuba dive snoork...   \n",
       "3                 Kasauli  [kasauli one mostly visit tourist place majori...   \n",
       "4  Tapola - Mahabaleshwar  [tapola best holiday destination winter anyone...   \n",
       "5                  Baroda  [spend twentyseven yrs life tell best place li...   \n",
       "6           Mahabaleshwar  [one best place visit tour get holiday package...   \n",
       "7              Aurangabad  [aurangabad know ajanta ellora cave much see m...   \n",
       "8               Dalhousie  [travel dalhousie two thousand eleven school t...   \n",
       "9               Ram Jhula  [ram jhula situate rishikesh place lord shiva ...   \n",
       "\n",
       "      score  \n",
       "0  0.992150  \n",
       "1  0.970111  \n",
       "2  0.959490  \n",
       "3  0.954621  \n",
       "4  0.950500  \n",
       "5  0.943863  \n",
       "6  0.922500  \n",
       "7  0.921595  \n",
       "8  0.921000  \n",
       "9  0.914800  "
      ]
     },
     "execution_count": 105,
     "metadata": {},
     "output_type": "execute_result"
    }
   ],
   "source": [
    "new_df.head(10)"
   ]
  },
  {
   "cell_type": "code",
   "execution_count": null,
   "metadata": {},
   "outputs": [],
   "source": []
  }
 ],
 "metadata": {
  "kernelspec": {
   "display_name": "Python 3",
   "language": "python",
   "name": "python3"
  },
  "language_info": {
   "codemirror_mode": {
    "name": "ipython",
    "version": 3
   },
   "file_extension": ".py",
   "mimetype": "text/x-python",
   "name": "python",
   "nbconvert_exporter": "python",
   "pygments_lexer": "ipython3",
   "version": "3.7.3"
  }
 },
 "nbformat": 4,
 "nbformat_minor": 2
}
